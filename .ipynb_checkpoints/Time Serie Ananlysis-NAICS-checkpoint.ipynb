{
 "cells": [
  {
   "cell_type": "markdown",
   "id": "52044216",
   "metadata": {},
   "source": [
    "# Time Series Analysis of NAICS\n",
    "\n",
    "## I. Preparation of datasets\n"
   ]
  },
  {
   "cell_type": "markdown",
   "id": "32f948ac",
   "metadata": {},
   "source": [
    "### NAICS 2"
   ]
  },
  {
   "cell_type": "code",
   "execution_count": 142,
   "id": "458cee2d",
   "metadata": {},
   "outputs": [
    {
     "data": {
      "text/plain": [
       "(5472, 5)"
      ]
     },
     "execution_count": 142,
     "metadata": {},
     "output_type": "execute_result"
    }
   ],
   "source": [
    "import pandas as pd\n",
    "files_list1 = ['RTRA_Employ_2NAICS_97_99.csv','RTRA_Employ_2NAICS_00_05.csv','RTRA_Employ_2NAICS_06_10.csv','RTRA_Employ_2NAICS_11_15.csv','RTRA_Employ_2NAICS_16_20.csv']\n",
    "naics2_df = pd.concat(map(pd.read_csv,files_list1), ignore_index=True)\n",
    "naics2_df['naics_code'] = naics2_df.NAICS.str.split('[').map(lambda x: x[1].strip(']'))\n",
    "naics2_df.shape"
   ]
  },
  {
   "cell_type": "code",
   "execution_count": 147,
   "id": "ad511659",
   "metadata": {},
   "outputs": [
    {
     "data": {
      "text/plain": [
       "(1608, 5)"
      ]
     },
     "execution_count": 147,
     "metadata": {},
     "output_type": "execute_result"
    }
   ],
   "source": [
    "naics2_55 = naics2_df[naics2_df.naics_code=='55']\n",
    "naics2_56 = naics2_df[naics2_df.naics_code=='56']\n",
    "brute_merge_55_56 = naics2_55.merge(naics2_56, left_on=['SYEAR','SMTH'],right_on=['SYEAR','SMTH'])\n",
    "brute_merge_55_56['_EMPLOYMENT_']=brute_merge_55_56['_EMPLOYMENT__x']+brute_merge_55_56['_EMPLOYMENT__y']\n",
    "brute_merge_55_56['naics_code'] = brute_merge_55_56['naics_code_x']+\" & \"+ brute_merge_55_56['naics_code_y']\n",
    "brute_merge_55_56 = brute_merge_55_56[['SYEAR','SMTH','NAICS_x','_EMPLOYMENT_','naics_code']]\n",
    "brute_merge_55_56.rename(columns={'NAICS_x':'NAICS'}, inplace=True)\n",
    "naics2_df= pd.concat([naics2_df[~((naics2_df.naics_code=='55')|(naics2_df.naics_code=='56'))],brute_merge_55_56], ignore_index=True)\n",
    "\n",
    "naics_code_list = ['22','23','41','53','81','55 & 56']\n",
    "final_naics2_df= naics2_df[naics2_df.naics_code.isin(naics_code_list)]\n",
    "\n",
    "naics2_df.shape\n",
    "# naics2_df.dtypes"
   ]
  },
  {
   "cell_type": "code",
   "execution_count": null,
   "id": "b36881b9",
   "metadata": {},
   "outputs": [],
   "source": []
  },
  {
   "cell_type": "markdown",
   "id": "46a2c653",
   "metadata": {},
   "source": [
    "### NAICS 3"
   ]
  },
  {
   "cell_type": "code",
   "execution_count": 62,
   "id": "a6bb8810",
   "metadata": {},
   "outputs": [
    {
     "data": {
      "text/plain": [
       "array(['914', '721', '561', '481', '621', '713', '112', '312', '515',\n",
       "       '444', '416', '419', '325', '448', '315', '334', '236', '492',\n",
       "       '522', '111', '518', '611', '335', '443', '332', '411', '911',\n",
       "       '114', '445', '311', '722', '413', '113', '526', '442', '337',\n",
       "       '447', '452', '446', '237', '712', '622', '524', '919', '316',\n",
       "       '533', '913', '333', '417', '551', '212', '339', '418', '453',\n",
       "       '521', '512', '415', '441', '327', '454', '623', '211', '81',\n",
       "       '519', '322', '711', '414', '812', '324', '412', '486', '326',\n",
       "       '491', '331', '323', '814', '541', '912', '511', '482', '531',\n",
       "       '813', '532', '811', '487', '523', '624', '238', '451', '115',\n",
       "       '213', '488', '517', '313', '314', '485', '336', '484', '221',\n",
       "       '493', '562', '483', '321'], dtype=object)"
      ]
     },
     "execution_count": 62,
     "metadata": {},
     "output_type": "execute_result"
    }
   ],
   "source": [
    "files_list2 = ['RTRA_Employ_3NAICS_97_99.csv','RTRA_Employ_3NAICS_00_05.csv','RTRA_Employ_3NAICS_06_10.csv','RTRA_Employ_3NAICS_11_15.csv','RTRA_Employ_3NAICS_16_20.csv']\n",
    "naics3_df = pd.concat(map(pd.read_csv,files_list2), ignore_index=True)\n",
    "naics3_df['naics_code'] = naics3_df.NAICS.map(lambda x: x.split('[')[-1].strip(']'))\n",
    "naics3_df.naics_code.replace('Securities, commodity contracts, and other financial investment and related acti','523', inplace=True)\n",
    "naics3_df.naics_code.replace('Other','81', inplace=True)\n",
    "naics3_df.naics_code.unique()"
   ]
  },
  {
   "cell_type": "markdown",
   "id": "f6de03fe",
   "metadata": {},
   "source": [
    "### NAICS 4\n"
   ]
  },
  {
   "cell_type": "code",
   "execution_count": 70,
   "id": "135aed27",
   "metadata": {},
   "outputs": [
    {
     "data": {
      "text/plain": [
       "array([1100, 1111, 1112, 1113, 1114, 1119, 1121, 1122, 1123, 1124, 1125,\n",
       "       1129, 1132, 1133, 1141, 1142, 1151, 1152, 1153, 2100, 2111, 2121,\n",
       "       2122, 2123, 2131, 2211, 2212, 2213, 2361, 2362, 2371, 2372, 2373,\n",
       "       2379, 2381, 2382, 2383, 2389, 3111, 3112, 3113, 3114, 3115, 3116,\n",
       "       3117, 3118, 3119, 3121, 3122, 3131, 3132, 3133, 3141, 3149, 3151,\n",
       "       3152, 3159, 3161, 3162, 3169, 3211, 3212, 3219, 3221, 3222, 3231,\n",
       "       3241, 3251, 3252, 3253, 3254, 3255, 3256, 3259, 3261, 3262, 3271,\n",
       "       3272, 3273, 3274, 3279, 3311, 3312, 3313, 3314, 3315, 3321, 3322,\n",
       "       3323, 3324, 3325, 3326, 3327, 3328, 3329, 3331, 3332, 3333, 3334,\n",
       "       3335, 3336, 3339, 3341, 3342, 3343, 3344, 3345, 3346, 3351, 3352,\n",
       "       3353, 3359, 3361, 3362, 3363, 3364, 3365, 3366, 3369, 3371, 3372,\n",
       "       3379, 3391, 3399, 4111, 4121, 4131, 4132, 4133, 4141, 4142, 4143,\n",
       "       4144, 4145, 4151, 4152, 4153, 4161, 4162, 4163, 4171, 4172, 4173,\n",
       "       4179, 4181, 4182, 4183, 4184, 4189, 4191, 4411, 4412, 4413, 4421,\n",
       "       4422, 4431, 4441, 4442, 4451, 4452, 4453, 4461, 4471, 4481, 4482,\n",
       "       4483, 4511, 4513, 4521, 4529, 4531, 4532, 4533, 4539, 4541, 4542,\n",
       "       4543, 4811, 4812, 4821, 4831, 4832, 4841, 4842, 4851, 4852, 4853,\n",
       "       4854, 4855, 4859, 4861, 4862, 4869, 4871, 4872, 4881, 4882, 4883,\n",
       "       4884, 4885, 4889, 4911, 4921, 4922, 4931, 5111, 5112, 5121, 5122,\n",
       "       5151, 5171, 5172, 5179, 5182, 5191, 5211, 5221, 5222, 5223, 5231,\n",
       "       5232, 5239, 5241, 5242, 5261, 5269, 5311, 5312, 5313, 5321, 5322,\n",
       "       5323, 5324, 5331, 5411, 5412, 5413, 5414, 5415, 5416, 5417, 5418,\n",
       "       5419, 5511, 5611, 5613, 5614, 5615, 5616, 5617, 5619, 5621, 5622,\n",
       "       5629, 6111, 6112, 6113, 6114, 6115, 6116, 6117, 6211, 6212, 6213,\n",
       "       6214, 6215, 6216, 6219, 6220, 6230, 6241, 6242, 6243, 6244, 7111,\n",
       "       7112, 7113, 7114, 7115, 7121, 7131, 7132, 7139, 7211, 7212, 7213,\n",
       "       7223, 7224, 7225, 8111, 8112, 8113, 8114, 8121, 8122, 8123, 8129,\n",
       "       8131, 8132, 8133, 8134, 8139, 8141, 9110, 9111, 9120, 9130, 9141,\n",
       "       9191, 1131, 4879, 5152, 5174, 5612])"
      ]
     },
     "execution_count": 70,
     "metadata": {},
     "output_type": "execute_result"
    }
   ],
   "source": [
    "files_list3 = ['RTRA_Employ_4NAICS_97_99.csv','RTRA_Employ_4NAICS_00_05.csv','RTRA_Employ_4NAICS_06_10.csv','RTRA_Employ_4NAICS_11_15.csv','RTRA_Employ_4NAICS_16_20.csv']\n",
    "naics4_df = pd.concat(map(pd.read_csv,files_list3), ignore_index=True)\n",
    "naics4_df.NAICS.unique()"
   ]
  },
  {
   "cell_type": "code",
   "execution_count": 118,
   "id": "7c176c7c",
   "metadata": {},
   "outputs": [
    {
     "data": {
      "text/plain": [
       "array(['111 & 112', 114, 113, 115, 211, 213, 212, 22, 23, '311 & 312',\n",
       "       321, 322, 331, 332, 333, 3366,\n",
       "       '3361,  3362,  3363, 3364, 3365, 3369',\n",
       "       '313, 314, 315, 316, 323, 324, 325, 326, 327, 334, 335, 337 & 339',\n",
       "       '41', 441, 446, '442,443,444,445,446,447,448,451,452,453 & 454',\n",
       "       481, 482, 483, 484, 488, '491 & 492', '485,486 & 487', 493, 524,\n",
       "       '521, 522, 523 & 526', 53, 5413, 5415, 5416,\n",
       "       '5411, 5412, 5414, 5417, 5418 & 5419', '55 & 56', 6111, 6112, 6113,\n",
       "       '6114, 6115, 6116 & 6117', 621, 622, 623, 624, 511, 512, 517,\n",
       "       '515, 518 & 519', 711, 713, 712, 721, 722, 81, 911, 912,\n",
       "       '913, 914 & 919'], dtype=object)"
      ]
     },
     "execution_count": 118,
     "metadata": {},
     "output_type": "execute_result"
    }
   ],
   "source": [
    "data = pd.read_excel('LMO_Detailed_Industries_by_NAICS.xlsx')\n",
    "data.NAICS.unique()"
   ]
  },
  {
   "cell_type": "code",
   "execution_count": 7,
   "id": "c01b2949",
   "metadata": {},
   "outputs": [
    {
     "data": {
      "text/html": [
       "<div>\n",
       "<style scoped>\n",
       "    .dataframe tbody tr th:only-of-type {\n",
       "        vertical-align: middle;\n",
       "    }\n",
       "\n",
       "    .dataframe tbody tr th {\n",
       "        vertical-align: top;\n",
       "    }\n",
       "\n",
       "    .dataframe thead th {\n",
       "        text-align: right;\n",
       "    }\n",
       "</style>\n",
       "<table border=\"1\" class=\"dataframe\">\n",
       "  <thead>\n",
       "    <tr style=\"text-align: right;\">\n",
       "      <th></th>\n",
       "      <th>SYEAR</th>\n",
       "      <th>SMTH</th>\n",
       "      <th>LMO_Detailed_Industry</th>\n",
       "      <th>Employment</th>\n",
       "    </tr>\n",
       "  </thead>\n",
       "  <tbody>\n",
       "    <tr>\n",
       "      <th>0</th>\n",
       "      <td>1997</td>\n",
       "      <td>1</td>\n",
       "      <td>Accommodation services</td>\n",
       "      <td>NaN</td>\n",
       "    </tr>\n",
       "    <tr>\n",
       "      <th>1</th>\n",
       "      <td>1997</td>\n",
       "      <td>1</td>\n",
       "      <td>Air transportation</td>\n",
       "      <td>NaN</td>\n",
       "    </tr>\n",
       "    <tr>\n",
       "      <th>2</th>\n",
       "      <td>1997</td>\n",
       "      <td>1</td>\n",
       "      <td>Ambulatory health care services</td>\n",
       "      <td>NaN</td>\n",
       "    </tr>\n",
       "    <tr>\n",
       "      <th>3</th>\n",
       "      <td>1997</td>\n",
       "      <td>1</td>\n",
       "      <td>Amusement, gambling and recreation industries</td>\n",
       "      <td>NaN</td>\n",
       "    </tr>\n",
       "    <tr>\n",
       "      <th>4</th>\n",
       "      <td>1997</td>\n",
       "      <td>1</td>\n",
       "      <td>Architectural, engineering and related services</td>\n",
       "      <td>NaN</td>\n",
       "    </tr>\n",
       "    <tr>\n",
       "      <th>...</th>\n",
       "      <td>...</td>\n",
       "      <td>...</td>\n",
       "      <td>...</td>\n",
       "      <td>...</td>\n",
       "    </tr>\n",
       "    <tr>\n",
       "      <th>15571</th>\n",
       "      <td>2018</td>\n",
       "      <td>12</td>\n",
       "      <td>Utilities</td>\n",
       "      <td>NaN</td>\n",
       "    </tr>\n",
       "    <tr>\n",
       "      <th>15572</th>\n",
       "      <td>2018</td>\n",
       "      <td>12</td>\n",
       "      <td>Warehousing and storage</td>\n",
       "      <td>NaN</td>\n",
       "    </tr>\n",
       "    <tr>\n",
       "      <th>15573</th>\n",
       "      <td>2018</td>\n",
       "      <td>12</td>\n",
       "      <td>Water transportation</td>\n",
       "      <td>NaN</td>\n",
       "    </tr>\n",
       "    <tr>\n",
       "      <th>15574</th>\n",
       "      <td>2018</td>\n",
       "      <td>12</td>\n",
       "      <td>Wholesale trade</td>\n",
       "      <td>NaN</td>\n",
       "    </tr>\n",
       "    <tr>\n",
       "      <th>15575</th>\n",
       "      <td>2018</td>\n",
       "      <td>12</td>\n",
       "      <td>Wood product manufacturing</td>\n",
       "      <td>NaN</td>\n",
       "    </tr>\n",
       "  </tbody>\n",
       "</table>\n",
       "<p>15576 rows × 4 columns</p>\n",
       "</div>"
      ],
      "text/plain": [
       "       SYEAR  SMTH                            LMO_Detailed_Industry  \\\n",
       "0       1997     1                           Accommodation services   \n",
       "1       1997     1                               Air transportation   \n",
       "2       1997     1                  Ambulatory health care services   \n",
       "3       1997     1    Amusement, gambling and recreation industries   \n",
       "4       1997     1  Architectural, engineering and related services   \n",
       "...      ...   ...                                              ...   \n",
       "15571   2018    12                                        Utilities   \n",
       "15572   2018    12                          Warehousing and storage   \n",
       "15573   2018    12                             Water transportation   \n",
       "15574   2018    12                                  Wholesale trade   \n",
       "15575   2018    12                       Wood product manufacturing   \n",
       "\n",
       "       Employment  \n",
       "0             NaN  \n",
       "1             NaN  \n",
       "2             NaN  \n",
       "3             NaN  \n",
       "4             NaN  \n",
       "...           ...  \n",
       "15571         NaN  \n",
       "15572         NaN  \n",
       "15573         NaN  \n",
       "15574         NaN  \n",
       "15575         NaN  \n",
       "\n",
       "[15576 rows x 4 columns]"
      ]
     },
     "execution_count": 7,
     "metadata": {},
     "output_type": "execute_result"
    }
   ],
   "source": [
    "data = pd.read_excel('Data_Output_Template.xlsx')\n",
    "data\n",
    "\n",
    "\n"
   ]
  },
  {
   "cell_type": "code",
   "execution_count": null,
   "id": "500380ef",
   "metadata": {},
   "outputs": [],
   "source": []
  }
 ],
 "metadata": {
  "kernelspec": {
   "display_name": "datascienceenv",
   "language": "python",
   "name": "datascienceenv"
  },
  "language_info": {
   "codemirror_mode": {
    "name": "ipython",
    "version": 3
   },
   "file_extension": ".py",
   "mimetype": "text/x-python",
   "name": "python",
   "nbconvert_exporter": "python",
   "pygments_lexer": "ipython3",
   "version": "3.9.7"
  }
 },
 "nbformat": 4,
 "nbformat_minor": 5
}
